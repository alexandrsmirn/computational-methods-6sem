{
 "cells": [
  {
   "cell_type": "code",
   "execution_count": 1,
   "source": [
    "import numpy as np\n",
    "import pandas as pd\n",
    "import scipy as sp\n",
    "from scipy import linalg, integrate, misc\n",
    "from matplotlib import pyplot as plt"
   ],
   "outputs": [],
   "metadata": {}
  },
  {
   "cell_type": "code",
   "execution_count": 9,
   "source": [
    "N = 16\n",
    "alpha = 1\n",
    "beta = 1\n",
    "\n",
    "eq1 = (lambda x: -(4-x) / (5-2*x),\\\n",
    "       lambda x: (1-x) / 2,\\\n",
    "       lambda x: np.log(3+x)/2,\\\n",
    "       lambda x: 1 + x/3)\n",
    "\n",
    "eq2 = (lambda x: -1/(x-3),\\\n",
    "       lambda x: 1 + x/2,\\\n",
    "       lambda x: np.exp(x/2),\n",
    "       lambda x: 2-x)\n",
    "\n",
    "eq3 = (lambda x: -(6 + x) / (7 + 3 * x), \\\n",
    "       lambda x: -(1 - x / 2), \\\n",
    "       lambda x: 1 + np.cos(x) / 2, \\\n",
    "       lambda x: 1 - x / 3)\n",
    "\n",
    "eq4 = (lambda x: (x-2) / (x+2), \\\n",
    "       lambda x: x, \\\n",
    "       lambda x: 1 - np.sin(x), \\\n",
    "       lambda x: x*x)\n",
    "\n",
    "\n",
    "k, v, q, f = eq4\n",
    "\n",
    "begin = -1\n",
    "end = 1\n"
   ],
   "outputs": [],
   "metadata": {}
  },
  {
   "cell_type": "code",
   "execution_count": 10,
   "source": [
    "#coord_func = [lambda x: (1-x*x)*sp.special.eval_jacobi(i, alpha, beta, x) for i in range(N)]\n",
    "def phi_i(i, x):\n",
    "    return (1-x*x)*sp.special.eval_jacobi(i, alpha, beta, x)\n",
    "\n",
    "def col_j(i, x):\n",
    "    return k(x)*sp.misc.derivative(lambda t: phi_i(i, t), x, dx=1e-1, n=2, order=5)\\\n",
    "            + v(x)*sp.misc.derivative(lambda t: phi_i(i, t), x, dx=1e-1, n=1, order=5)\\\n",
    "            + q(x)*phi_i(i, x)\n",
    "\n",
    "#cols = [col_j(j) for j in range(N)]\n",
    "#B = np.array([sp.integrate.quad(col_) for col in A])\n",
    "B = np.zeros((N-2, N-2))\n",
    "C = np.zeros(N-2)\n",
    "for i in range(N-2):\n",
    "    C[i] = integrate.quad(lambda x: f(x)*phi_i(i+1, x), begin, end)[0]\n",
    "    for j in range(N-2):\n",
    "        func = lambda x: col_j(j+1, x)*phi_i(i+1, x)\n",
    "        B[i, j] = sp.integrate.quad(func, begin, end)[0]\n",
    "\n",
    "A = np.zeros(N)\n",
    "A[1:-1] = linalg.solve(B, C)\n",
    "A[0] = 0\n",
    "A[-1] = 0\n",
    "#A = np.zeros(N)\n",
    "#A = linalg.solve(B, C)\n",
    "u = lambda x: np.sum([A[i]*phi_i(i, x) for i in range(N)])\n",
    "\n",
    "segm = np.linspace(begin, end, 100)\n",
    "u_vect = np.vectorize(u)\n",
    "curr = u_vect(segm)\n",
    "plt.plot(segm, curr)\n",
    "plt.show()\n",
    "plt.plot(segm, prev)\n",
    "prev = curr"
   ],
   "outputs": [
    {
     "output_type": "display_data",
     "data": {
      "image/png": "[encoded data removed]",
      "text/plain": [
       "<Figure size 432x288 with 1 Axes>"
      ]
     },
     "metadata": {
      "needs_background": "light"
     }
    },
    {
     "output_type": "error",
     "ename": "NameError",
     "evalue": "name 'prev' is not defined",
     "traceback": [
      "\u001b[0;31m---------------------------------------------------------------------------\u001b[0m",
      "\u001b[0;31mNameError\u001b[0m                                 Traceback (most recent call last)",
      "\u001b[0;32m/tmp/ipykernel_256910/1256762420.py\u001b[0m in \u001b[0;36m<module>\u001b[0;34m\u001b[0m\n\u001b[1;32m     31\u001b[0m \u001b[0mplt\u001b[0m\u001b[0;34m.\u001b[0m\u001b[0mplot\u001b[0m\u001b[0;34m(\u001b[0m\u001b[0msegm\u001b[0m\u001b[0;34m,\u001b[0m \u001b[0mcurr\u001b[0m\u001b[0;34m)\u001b[0m\u001b[0;34m\u001b[0m\u001b[0;34m\u001b[0m\u001b[0m\n\u001b[1;32m     32\u001b[0m \u001b[0mplt\u001b[0m\u001b[0;34m.\u001b[0m\u001b[0mshow\u001b[0m\u001b[0;34m(\u001b[0m\u001b[0;34m)\u001b[0m\u001b[0;34m\u001b[0m\u001b[0;34m\u001b[0m\u001b[0m\n\u001b[0;32m---> 33\u001b[0;31m \u001b[0mplt\u001b[0m\u001b[0;34m.\u001b[0m\u001b[0mplot\u001b[0m\u001b[0;34m(\u001b[0m\u001b[0msegm\u001b[0m\u001b[0;34m,\u001b[0m \u001b[0mprev\u001b[0m\u001b[0;34m)\u001b[0m\u001b[0;34m\u001b[0m\u001b[0;34m\u001b[0m\u001b[0m\n\u001b[0m\u001b[1;32m     34\u001b[0m \u001b[0mprev\u001b[0m \u001b[0;34m=\u001b[0m \u001b[0mcurr\u001b[0m\u001b[0;34m\u001b[0m\u001b[0;34m\u001b[0m\u001b[0m\n",
      "\u001b[0;31mNameError\u001b[0m: name 'prev' is not defined"
     ]
    }
   ],
   "metadata": {}
  }
 ],
 "metadata": {
  "orig_nbformat": 4,
  "language_info": {
   "name": "python",
   "version": "3.9.7",
   "mimetype": "text/x-python",
   "codemirror_mode": {
    "name": "ipython",
    "version": 3
   },
   "pygments_lexer": "ipython3",
   "nbconvert_exporter": "python",
   "file_extension": ".py"
  },
  "kernelspec": {
   "name": "python3",
   "display_name": "Python 3.9.7 64-bit"
  },
  "interpreter": {
   "hash": "767d51c1340bd893661ea55ea3124f6de3c7a262a8b4abca0554b478b1e2ff90"
  }
 },
 "nbformat": 4,
 "nbformat_minor": 2
}