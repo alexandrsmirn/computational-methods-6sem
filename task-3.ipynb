{
 "cells": [
  {
   "cell_type": "code",
   "execution_count": 2,
   "source": [
    "import numpy as np\n",
    "import pandas as pd\n",
    "import scipy as sp\n",
    "from scipy import linalg\n",
    "import math"
   ],
   "outputs": [],
   "metadata": {}
  },
  {
   "cell_type": "code",
   "execution_count": 3,
   "source": [
    "def T(i, j):\n",
    "    norm = math.sqrt(Z[i-1, i-1]**2 + Z[j-1, i-1]**2)\n",
    "    cos = Z[i-1, i-1] / norm\n",
    "    sin = - Z[j-1, i-1] / norm\n",
    "\n",
    "    res = np.eye(order)\n",
    "    res[i-1, i-1] = cos\n",
    "    res[i-1, j-1] = -sin\n",
    "    res[j-1, i-1] = sin\n",
    "    res[j-1, j-1] = cos\n",
    "\n",
    "    return res"
   ],
   "outputs": [],
   "metadata": {}
  },
  {
   "cell_type": "code",
   "execution_count": 9,
   "source": [
    "Z_ = np.random.uniform(-100, 100, (10,10))\n",
    "Z_ = linalg.hilbert(15)\n",
    "Z = np.array([[4, 3, 2], [-2, 2, 3], [3, -5, 2]])\n",
    "Z_ = np.array([[1, 9, 2, 1, 1],\n",
    "               [10, 1, 2, 1, 1],\n",
    "               [1, 0, 5, 1, 1],\n",
    "               [2, 1, 1, 2, 9],\n",
    "               [2, 1, 2, 13, 2]])\n",
    "Z_ = np.array([[8.29381, 0.995516, -0.560617],\n",
    "               [0.995516, 6.298198, 0.595772],\n",
    "               [-0.560617, 0.595772, 4.997407]])\n",
    "\n",
    "order = Z.shape[0]\n",
    "x = np.ones(order)\n",
    "\n",
    "b = Z @ x\n",
    "x_trad = linalg.solve(Z, b)\n",
    "x_trad = linalg.lu_solve(linalg.lu_factor(Z), b)\n",
    "np.linalg.cond(Z)\n",
    "\n",
    "for i in range(1, order):\n",
    "    for j in range(i+1, order+1):\n",
    "        T_curr = T(i, j)\n",
    "        Z = T_curr @ Z\n",
    "        b = T_curr @ b\n",
    "\n",
    "x_rot = linalg.solve_triangular(Z, b, lower=False)\n",
    "#print(x_trad, x_rot, sep='\\n')\n",
    "print(\"Error of LU decomposition\", linalg.norm(x-x_trad) / linalg.norm(x), sep='\\t')\n",
    "print(\"Error of rotation method\", linalg.norm(x-x_rot) / linalg.norm(x), sep='\\t')"
   ],
   "outputs": [
    {
     "output_type": "stream",
     "name": "stdout",
     "text": [
      "Error of LU decomposition\t0.0\n",
      "Error of rotation method\t1.433291761649753e-16\n"
     ]
    }
   ],
   "metadata": {}
  },
  {
   "cell_type": "code",
   "execution_count": null,
   "source": [],
   "outputs": [],
   "metadata": {}
  }
 ],
 "metadata": {
  "orig_nbformat": 4,
  "language_info": {
   "name": "python",
   "version": "3.9.7",
   "mimetype": "text/x-python",
   "codemirror_mode": {
    "name": "ipython",
    "version": 3
   },
   "pygments_lexer": "ipython3",
   "nbconvert_exporter": "python",
   "file_extension": ".py"
  },
  "kernelspec": {
   "name": "python3",
   "display_name": "Python 3.9.7 64-bit"
  },
  "interpreter": {
   "hash": "767d51c1340bd893661ea55ea3124f6de3c7a262a8b4abca0554b478b1e2ff90"
  }
 },
 "nbformat": 4,
 "nbformat_minor": 2
}