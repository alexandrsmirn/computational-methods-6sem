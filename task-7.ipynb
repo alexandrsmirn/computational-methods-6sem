{
 "cells": [
  {
   "cell_type": "code",
   "execution_count": 3,
   "source": [
    "import numpy as np\n",
    "import pandas as pd\n",
    "import scipy as sp\n",
    "from scipy import linalg\n",
    "from matplotlib import pyplot as plt"
   ],
   "outputs": [],
   "metadata": {}
  },
  {
   "cell_type": "code",
   "execution_count": 33,
   "source": [
    "def q(x):\n",
    "    #return float(1)\n",
    "    #return (1 - x) / 2\n",
    "    return (1+x/2)*(3-x)\n",
    "\n",
    "\n",
    "def r(x):\n",
    "    #return float(-2)\n",
    "    #return np.log(3 + x) / 2\n",
    "    #return (1 + np.sin(x) / 2)\n",
    "    return np.exp(x/2)*(3-x)\n",
    "\n",
    "\n",
    "def f(x):\n",
    "    #return float(0)\n",
    "    #return 1 + x / 3\n",
    "    return (2-x)*(3-x)\n",
    "\n",
    "alpha = 0\n",
    "beta = 0\n",
    "\n",
    "begin = -1\n",
    "end = 1"
   ],
   "outputs": [],
   "metadata": {}
  },
  {
   "cell_type": "code",
   "execution_count": null,
   "source": [
    "begin = 0\n",
    "end = 1\n",
    "N = 1000\n",
    "\n",
    "grid = np.linspace(begin, end, N+1)\n",
    "h = grid[1] - grid[0]\n",
    "\n",
    "A = np.zeros((N-1, N-1))\n",
    "b = np.zeros(N-1)\n",
    "\n",
    "A[0, 0] = -2/h**2 + r(grid[1])\n",
    "A[0, 1] =  1/h**2 + q(grid[1])/(2*h)\n",
    "b[0] = f(grid[1]) - alpha*A[0, 1]\n",
    "for i in range(1, N-2):\n",
    "    A[i, i-1] = 1/h**2 + q(grid[i+1])/(2*h)\n",
    "    A[i, i] = -2/h**2 + r(grid[i+1])\n",
    "    A[i, i+1] = A[i, i-1]\n",
    "    b[i] = f(grid[i])\n",
    "A[N-2, N-2] = -2/h**2 + r(grid[N-1])\n",
    "A[N-2, N-3] = 1/h**2 + q(grid[N-1])/(2*h)\n",
    "b[N-2] = f(grid[N-1]) - beta*A[N-2, N-3]"
   ],
   "outputs": [],
   "metadata": {}
  },
  {
   "cell_type": "code",
   "execution_count": 32,
   "source": [
    "def calc_(begin, end, N):\n",
    "    grid = np.linspace(begin, end, N+1)\n",
    "    h = grid[1] - grid[0]\n",
    "\n",
    "    A = np.zeros((N-1, N-1))\n",
    "    b = np.zeros(N-1)\n",
    "\n",
    "    A[0, 0] = -2/h**2 + r(grid[1])\n",
    "    A[0, 1] =  1/h**2 + q(grid[1])/(2*h)\n",
    "    b[0] = f(grid[1]) - alpha*(1/h**2 - q(grid[1])/(2*h))\n",
    "    for i in range(1, N-2):\n",
    "        A[i, i-1] = 1/h**2 - q(grid[i+1])/(2*h)\n",
    "        A[i, i] = -2/h**2 + r(grid[i+1])\n",
    "        A[i, i+1] = 1/h**2 + q(grid[i+1])/(2*h)\n",
    "        b[i] = f(grid[i])\n",
    "    A[N-2, N-2] = -2/h**2 + r(grid[N-1])\n",
    "    A[N-2, N-3] = 1/h**2 - q(grid[N-1])/(2*h)\n",
    "    b[N-2] = f(grid[N-1]) - beta*(1/h**2 + q(grid[N-1])/(2*h))\n",
    "\n",
    "    x = np.zeros(N+1)\n",
    "    x[1:-1] = linalg.solve(A, b)\n",
    "    x[0] = alpha\n",
    "    x[-1] = beta\n",
    "    return x, h"
   ],
   "outputs": [],
   "metadata": {}
  },
  {
   "cell_type": "code",
   "execution_count": 34,
   "source": [
    "def calc(begin, end, N):\n",
    "    grid = np.linspace(begin, end, N+1)\n",
    "    h = grid[1] - grid[0]\n",
    "    #h = (end-begin)/N\n",
    "\n",
    "    A = np.zeros((3, N-1))\n",
    "    b = np.zeros(N-1)\n",
    "\n",
    "    for i in range(1, N-1):\n",
    "        A[0, i] =  1/(h**2) + q(grid[i])/(2*h)\n",
    "    for i in range(0, N-1):\n",
    "        A[1, i] =  -2/(h**2) + r(grid[i+1])\n",
    "    for i in range(0, N-2):\n",
    "        #A[0, i+1] =  1/h**2 + q(grid[i+1])/(2*h)\n",
    "        A[2, i] =  1/(h**2) - q(grid[i+1])/(2*h)\n",
    "\n",
    "\n",
    "    b[0] = f(grid[1]) - alpha*(1/(h**2) - q(grid[1])/(2*h))\n",
    "    for i in range(1, N-2):\n",
    "        b[i] = f(grid[i+1])\n",
    "    b[N-2] = f(grid[N-1]) - beta*(1/(h**2) + q(grid[N-1])/(2*h))\n",
    "\n",
    "    x = np.zeros(N+1)\n",
    "    x[1:-1] = linalg.solve_banded((1, 1), A, b)\n",
    "    x[0] = alpha\n",
    "    x[-1] = beta\n",
    "    return x, h\n",
    "\n",
    "def err(delta: np.ndarray):\n",
    "    return np.abs(delta).max()\n",
    "    #return linalg.norm(delta)/np.sqrt(delta.size)\n",
    "\n",
    "def delta_func(x_prev, x_curr):\n",
    "    delta = np.zeros_like(x_curr)\n",
    "    for i in range(0, x_prev.size):\n",
    "        delta[2*i] = x_curr[2*i] - x_prev[i] / ((2**1)-1)\n",
    "\n",
    "    for i in range(1, delta.size-1, 2):\n",
    "        delta[i] = (delta[i-1] + delta[i+1])/2\n",
    "\n",
    "    return delta"
   ],
   "outputs": [],
   "metadata": {}
  },
  {
   "cell_type": "code",
   "execution_count": 6,
   "source": [
    "def func(x):\n",
    "    return (np.exp(2-2*x)*(np.exp(3*x)-1))/(np.exp(3)-1)\n",
    "\n",
    "func_v = np.vectorize(func)    \n",
    "\n",
    "func_v(0.5)"
   ],
   "outputs": [
    {
     "output_type": "execute_result",
     "data": {
      "text/plain": [
       "array(0.49588399)"
      ]
     },
     "metadata": {},
     "execution_count": 6
    }
   ],
   "metadata": {}
  },
  {
   "cell_type": "code",
   "execution_count": 35,
   "source": [
    "r_ = 1\n",
    "eps = 2e-6\n",
    "\n",
    "errs=[]\n",
    "Ns=[]\n",
    "\n",
    "n=10\n",
    "\n",
    "x_prev, h = calc(begin, end, n) # N must be even\n",
    "n = n*2\n",
    "x_curr, h = calc(begin, end, n)\n",
    "delta = delta_func(x_prev, x_curr)\n",
    "while err(delta) > eps:\n",
    "    print(err(delta))\n",
    "    errs.append(err(delta))\n",
    "    Ns.append(1/h)\n",
    "    \n",
    "    x_prev = x_curr\n",
    "    n = n*2\n",
    "    x_curr, h = calc(begin, end, n)\n",
    "    delta = delta_func(x_prev, x_curr)\n",
    "x_curr = x_curr+delta"
   ],
   "outputs": [
    {
     "output_type": "stream",
     "name": "stdout",
     "text": [
      "0.4474661741310362\n",
      "0.13834142509310698\n",
      "0.050485449243645064\n",
      "0.020844033671799878\n",
      "0.009355046174679416\n",
      "0.004414075051785815\n",
      "0.002141712109207994\n",
      "0.001054594927225594\n",
      "0.0005232403763573146\n",
      "0.00026060682573447735\n",
      "0.0001300505502221938\n",
      "6.496160655089511e-05\n",
      "3.246580211069272e-05\n",
      "1.6249634102294408e-05\n",
      "8.084277749453861e-06\n",
      "4.037710461979316e-06\n",
      "2.061181180401661e-06\n"
     ]
    }
   ],
   "metadata": {}
  },
  {
   "cell_type": "code",
   "execution_count": 36,
   "source": [
    "plt.figure(figsize=(12, 5))\n",
    "plt.subplot(121)\n",
    "plt.plot(Ns, errs, '.-')\n",
    "plt.xscale('log')\n",
    "\n",
    "plt.subplot(122)\n",
    "ls = np.linspace(begin, end, n+1)\n",
    "plt.plot(ls, x_curr, 'r')\n",
    "plt.axhline(y=alpha, linestyle='--', linewidth=1, color='orange')\n",
    "plt.axhline(y=beta, linestyle='--', linewidth=1, color='orange')\n",
    "#plt.plot(ls, func_v(ls), 'g')\n",
    "plt.show()\n"
   ],
   "outputs": [
    {
     "output_type": "display_data",
     "data": {
      "image/png": "[encoded data removed]",
      "text/plain": [
       "<Figure size 864x360 with 2 Axes>"
      ]
     },
     "metadata": {
      "needs_background": "light"
     }
    }
   ],
   "metadata": {}
  },
  {
   "cell_type": "code",
   "execution_count": 37,
   "source": [
    "x_curr[x_curr.size//2]"
   ],
   "outputs": [
    {
     "output_type": "execute_result",
     "data": {
      "text/plain": [
       "1.2166212406442076"
      ]
     },
     "metadata": {},
     "execution_count": 37
    }
   ],
   "metadata": {}
  }
 ],
 "metadata": {
  "kernelspec": {
   "name": "python3",
   "display_name": "Python 3.9.7 64-bit"
  },
  "language_info": {
   "codemirror_mode": {
    "name": "ipython",
    "version": 3
   },
   "file_extension": ".py",
   "mimetype": "text/x-python",
   "name": "python",
   "nbconvert_exporter": "python",
   "pygments_lexer": "ipython3",
   "version": "3.9.7"
  },
  "interpreter": {
   "hash": "767d51c1340bd893661ea55ea3124f6de3c7a262a8b4abca0554b478b1e2ff90"
  }
 },
 "nbformat": 4,
 "nbformat_minor": 5
}