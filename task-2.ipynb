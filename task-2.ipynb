{
 "cells": [
  {
   "cell_type": "code",
   "execution_count": 9,
   "source": [
    "import numpy as np\n",
    "import pandas as pd\n",
    "import scipy as sp\n",
    "from scipy import linalg"
   ],
   "outputs": [],
   "metadata": {}
  },
  {
   "cell_type": "code",
   "execution_count": 10,
   "source": [
    "def cond_spectr(A: np.ndarray) -> float:\n",
    "    return linalg.norm(A) * linalg.norm(linalg.inv(A))\n",
    "\n",
    "\n",
    "def cond_vol(A: np.ndarray) -> float:\n",
    "    dividend = 1.0\n",
    "    for row in A:\n",
    "        dividend = dividend * linalg.norm(row, 2)\n",
    "\n",
    "    return dividend / abs(linalg.det(A))\n",
    "\n",
    "\n",
    "def cond_angle(A: np.ndarray) -> float:\n",
    "    A_inv = linalg.inv(A)\n",
    "    max_val = 0\n",
    "    for i in range(A.shape[0]):\n",
    "        curr_val = linalg.norm(A[i]) * linalg.norm(A_inv[..., i])\n",
    "        max_val = max(max_val, curr_val)\n",
    "\n",
    "    return max_val\n",
    "\n",
    "\n",
    "def print_conds(A: np.ndarray) -> None:\n",
    "    print(\"Cond. spectr:\\t\", cond_spectr(A))\n",
    "    print(\"Cond. volume:\\t\", cond_vol(A))\n",
    "    print(\"Cond. angle:\\t\", cond_angle(A))"
   ],
   "outputs": [],
   "metadata": {}
  },
  {
   "cell_type": "code",
   "execution_count": 11,
   "source": [
    "def M_i(i, U):\n",
    "    matr = np.eye(order)\n",
    "    for j in range(i, order):\n",
    "        matr[j][i-1] = - U[j, i-1] / U[i-1, i-1]\n",
    "    return matr"
   ],
   "outputs": [],
   "metadata": {}
  },
  {
   "cell_type": "code",
   "execution_count": 12,
   "source": [
    "Z_ = np.random.uniform(-100, 100, (10, 10))\n",
    "Z = linalg.hilbert(15)\n",
    "Z_ = np.array([[4, 3, 2], [-2, 2, 3], [3, -5, 2]])\n",
    "Z_ = np.array([[12.951443, 1.554567, -3.998582],\\\n",
    "              [1.554567, 9.835076, 0.930339],\\\n",
    "              [-3.998582, 0.930339, 7.80380]])\n",
    "Z_ = np.array([[8.29381, 0.995516, -0.560617],\n",
    "               [0.995516, 6.298198, 0.595772],\n",
    "               [-0.560617, 0.595772, 4.997407]])\n",
    "Z_ = np.array([[1, 9, 2, 1, 1],\n",
    "               [10, 1, 2, 1, 1],\n",
    "               [1, 0, 5, 1, 1],\n",
    "               [2, 1, 1, 2, 9],\n",
    "               [2, 1, 2, 13, 2]])\n",
    "\n",
    "order = Z.shape[0]\n",
    "\n",
    "U = Z.copy()\n",
    "L = np.eye(order)\n",
    "for i in range(1, order):\n",
    "    curr_M = M_i(i, U)\n",
    "    U = curr_M @ U\n",
    "    L = L @ linalg.inv(curr_M)\n",
    "\n",
    "\n",
    "print(\"||LU - Z||:\", linalg.norm(L@U - Z))\n",
    "\n",
    "print(\"Z:\")\n",
    "print_conds(Z)\n",
    "print(\"L:\")\n",
    "print_conds(L)\n",
    "print(\"U:\")\n",
    "print_conds(U)"
   ],
   "outputs": [
    {
     "output_type": "stream",
     "name": "stdout",
     "text": [
      "||LU - Z||: 1.1978388074229732e-16\n",
      "Z:\n",
      "Cond. spectr:\t 4.6845908193094054e+17\n",
      "Cond. volume:\t 5.122528618888359e+112\n",
      "Cond. angle:\t 3.4559620927942348e+16\n",
      "L:\n",
      "Cond. spectr:\t 31942.450205248737\n",
      "Cond. volume:\t 2485402452299409.5\n",
      "Cond. angle:\t 2382.567956753683\n",
      "U:\n",
      "Cond. spectr:\t 2.5474080891075656e+16\n",
      "Cond. volume:\t 9.320410906126957e+18\n",
      "Cond. angle:\t 1812.5916964382814\n"
     ]
    }
   ],
   "metadata": {}
  },
  {
   "cell_type": "code",
   "execution_count": 13,
   "source": [
    "#x_rand = np.random.uniform(-1, 1, (order,))\n",
    "x_ones = np.ones(order)\n",
    "b = Z @ x_ones\n",
    "y_ = linalg.solve_triangular(L, b, lower=True, unit_diagonal=True)\n",
    "x = linalg.solve_triangular(U, y_, lower=False)\n",
    "x_c = linalg.solve(Z, b)\n",
    "#print(x_ones)\n",
    "#print(x)\n",
    "#print(x_c)\n",
    "print(linalg.norm(x-x_ones) / linalg.norm(x_ones))\n",
    "print(linalg.norm(x-x_c) / linalg.norm(x_ones))"
   ],
   "outputs": [
    {
     "output_type": "stream",
     "name": "stdout",
     "text": [
      "5.594467094093577\n",
      "10.106839574850753\n"
     ]
    },
    {
     "output_type": "stream",
     "name": "stderr",
     "text": [
      "/tmp/ipykernel_216787/4211035871.py:6: LinAlgWarning: Ill-conditioned matrix (rcond=8.18724e-19): result may not be accurate.\n",
      "  x_c = linalg.solve(Z, b)\n"
     ]
    }
   ],
   "metadata": {}
  },
  {
   "cell_type": "code",
   "execution_count": 14,
   "source": [
    "#p_, l_, u_ = linalg.lu(A)\n",
    "lu, piv = linalg.lu_factor(Z)\n",
    "x = linalg.lu_solve((lu, piv), b)"
   ],
   "outputs": [],
   "metadata": {}
  },
  {
   "cell_type": "code",
   "execution_count": 15,
   "source": [
    "rows=[]\n",
    "for deg in range(-12, 0):\n",
    "    alpha = 10**deg\n",
    "    Z_reg = Z + alpha*np.eye(order)\n",
    "    x_curr = linalg.lu_solve(linalg.lu_factor(Z_reg), b+10**deg*x_ones)\n",
    "    #x_curr = linalg.solve(A_reg, b+10**deg*x_rand)\n",
    "    \n",
    "    x_rand_other = np.random.uniform(-10, 10, (order,))\n",
    "    b_other = Z @ x_rand_other\n",
    "    x_other = linalg.lu_solve(linalg.lu_factor(Z_reg), b_other+alpha*x_rand_other)\n",
    "    row=[alpha, linalg.norm(x_curr-x_ones), linalg.norm(x_other-x_rand_other)]\n",
    "    rows.append(row)\n",
    "\n",
    "df = pd.DataFrame(rows, columns=['alpha', 'err_ones', 'err_rand'])\n",
    "df"
   ],
   "outputs": [
    {
     "output_type": "execute_result",
     "data": {
      "text/html": [
       "<div>\n",
       "<style scoped>\n",
       "    .dataframe tbody tr th:only-of-type {\n",
       "        vertical-align: middle;\n",
       "    }\n",
       "\n",
       "    .dataframe tbody tr th {\n",
       "        vertical-align: top;\n",
       "    }\n",
       "\n",
       "    .dataframe thead th {\n",
       "        text-align: right;\n",
       "    }\n",
       "</style>\n",
       "<table border=\"1\" class=\"dataframe\">\n",
       "  <thead>\n",
       "    <tr style=\"text-align: right;\">\n",
       "      <th></th>\n",
       "      <th>alpha</th>\n",
       "      <th>err_ones</th>\n",
       "      <th>err_rand</th>\n",
       "    </tr>\n",
       "  </thead>\n",
       "  <tbody>\n",
       "    <tr>\n",
       "      <th>0</th>\n",
       "      <td>1.000000e-12</td>\n",
       "      <td>1.655783e-04</td>\n",
       "      <td>5.338953e-04</td>\n",
       "    </tr>\n",
       "    <tr>\n",
       "      <th>1</th>\n",
       "      <td>1.000000e-11</td>\n",
       "      <td>2.435666e-05</td>\n",
       "      <td>5.438817e-05</td>\n",
       "    </tr>\n",
       "    <tr>\n",
       "      <th>2</th>\n",
       "      <td>1.000000e-10</td>\n",
       "      <td>2.308208e-06</td>\n",
       "      <td>1.589250e-06</td>\n",
       "    </tr>\n",
       "    <tr>\n",
       "      <th>3</th>\n",
       "      <td>1.000000e-09</td>\n",
       "      <td>1.086279e-07</td>\n",
       "      <td>3.882104e-07</td>\n",
       "    </tr>\n",
       "    <tr>\n",
       "      <th>4</th>\n",
       "      <td>1.000000e-08</td>\n",
       "      <td>1.833401e-08</td>\n",
       "      <td>4.503460e-08</td>\n",
       "    </tr>\n",
       "    <tr>\n",
       "      <th>5</th>\n",
       "      <td>1.000000e-07</td>\n",
       "      <td>2.485011e-09</td>\n",
       "      <td>5.784214e-09</td>\n",
       "    </tr>\n",
       "    <tr>\n",
       "      <th>6</th>\n",
       "      <td>1.000000e-06</td>\n",
       "      <td>3.095773e-10</td>\n",
       "      <td>3.386120e-10</td>\n",
       "    </tr>\n",
       "    <tr>\n",
       "      <th>7</th>\n",
       "      <td>1.000000e-05</td>\n",
       "      <td>2.387703e-11</td>\n",
       "      <td>6.277172e-11</td>\n",
       "    </tr>\n",
       "    <tr>\n",
       "      <th>8</th>\n",
       "      <td>1.000000e-04</td>\n",
       "      <td>3.434609e-12</td>\n",
       "      <td>4.617774e-12</td>\n",
       "    </tr>\n",
       "    <tr>\n",
       "      <th>9</th>\n",
       "      <td>1.000000e-03</td>\n",
       "      <td>3.546696e-13</td>\n",
       "      <td>1.203952e-12</td>\n",
       "    </tr>\n",
       "    <tr>\n",
       "      <th>10</th>\n",
       "      <td>1.000000e-02</td>\n",
       "      <td>3.510623e-14</td>\n",
       "      <td>7.048415e-14</td>\n",
       "    </tr>\n",
       "    <tr>\n",
       "      <th>11</th>\n",
       "      <td>1.000000e-01</td>\n",
       "      <td>4.058013e-15</td>\n",
       "      <td>1.222207e-14</td>\n",
       "    </tr>\n",
       "  </tbody>\n",
       "</table>\n",
       "</div>"
      ],
      "text/plain": [
       "           alpha      err_ones      err_rand\n",
       "0   1.000000e-12  1.655783e-04  5.338953e-04\n",
       "1   1.000000e-11  2.435666e-05  5.438817e-05\n",
       "2   1.000000e-10  2.308208e-06  1.589250e-06\n",
       "3   1.000000e-09  1.086279e-07  3.882104e-07\n",
       "4   1.000000e-08  1.833401e-08  4.503460e-08\n",
       "5   1.000000e-07  2.485011e-09  5.784214e-09\n",
       "6   1.000000e-06  3.095773e-10  3.386120e-10\n",
       "7   1.000000e-05  2.387703e-11  6.277172e-11\n",
       "8   1.000000e-04  3.434609e-12  4.617774e-12\n",
       "9   1.000000e-03  3.546696e-13  1.203952e-12\n",
       "10  1.000000e-02  3.510623e-14  7.048415e-14\n",
       "11  1.000000e-01  4.058013e-15  1.222207e-14"
      ]
     },
     "metadata": {},
     "execution_count": 15
    }
   ],
   "metadata": {}
  }
 ],
 "metadata": {
  "orig_nbformat": 4,
  "language_info": {
   "name": "python",
   "version": "3.9.7",
   "mimetype": "text/x-python",
   "codemirror_mode": {
    "name": "ipython",
    "version": 3
   },
   "pygments_lexer": "ipython3",
   "nbconvert_exporter": "python",
   "file_extension": ".py"
  },
  "kernelspec": {
   "name": "python3",
   "display_name": "Python 3.9.7 64-bit"
  },
  "interpreter": {
   "hash": "767d51c1340bd893661ea55ea3124f6de3c7a262a8b4abca0554b478b1e2ff90"
  }
 },
 "nbformat": 4,
 "nbformat_minor": 2
}