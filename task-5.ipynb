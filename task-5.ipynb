{
 "cells": [
  {
   "cell_type": "code",
   "execution_count": 2,
   "source": [
    "import numpy as np\n",
    "import pandas as pd\n",
    "import scipy as sp\n",
    "from scipy import linalg\n",
    "import math"
   ],
   "outputs": [],
   "metadata": {}
  },
  {
   "cell_type": "code",
   "execution_count": 3,
   "source": [
    "def err(eigval, x_curr, x_prev):\n",
    "    return linalg.norm(x_curr - eigval*x_prev) / linalg.norm(x_prev)"
   ],
   "outputs": [],
   "metadata": {}
  },
  {
   "cell_type": "code",
   "execution_count": 6,
   "source": [
    "#A = linalg.pascal(15)\n",
    "#A = linalg.hilbert(15)\n",
    "A = np.array([[1, 9, 2, 1, 1],\n",
    "               [10, 1, 2, 1, 1],\n",
    "               [1, 0, 5, 1, 1],\n",
    "               [2, 1, 1, 2, 9],\n",
    "               [2, 1, 2, 13, 2]])\n",
    "A_ = np.array([[8.29381, 0.995516, -0.560617],\n",
    "               [0.995516, 6.298198, 0.595772],\n",
    "               [-0.560617, 0.595772, 4.997407]])\n",
    "A_ = np.array([[4, 3, 2], [-2, 2, 3], [3, -5, 2]])\n",
    "A_ = np.random.uniform(-100, 100, (10,10))\n",
    "eps = 1e-15\n",
    "\n",
    "x_prev = np.ones(A.shape[0])\n",
    "x_curr = x_prev.copy()\n",
    "prev_eigval = 0\n",
    "\n",
    "k = 1\n",
    "m = 15\n",
    "while True:\n",
    "    if k % m == 0:\n",
    "        x_prev = x_prev / linalg.norm(x_prev)\n",
    "\n",
    "    x_curr = A @ x_prev\n",
    "    eigval = x_curr[0] / x_prev[0]\n",
    "    if abs(eigval - prev_eigval) < eps:\n",
    "    #if err(eigval, x_curr, x_prev) < eps:\n",
    "        prev_eigval = eigval\n",
    "        break\n",
    "\n",
    "    prev_eigval = eigval\n",
    "    x_prev = x_curr\n",
    "    k += 1\n",
    "\n",
    "print(\"Num iterations: \", k)\n",
    "print(\"Max eigenvalue:\", prev_eigval)\n",
    "print(\"Error: \", abs(linalg.eig(A)[0].max().real - prev_eigval) / linalg.eig(A)[0].max().real)"
   ],
   "outputs": [
    {
     "output_type": "stream",
     "name": "stdout",
     "text": [
      "Num iterations:  79\n",
      "Max eigenvalue: 14.906140138511073\n",
      "Error:  3.57508413893998e-16\n"
     ]
    }
   ],
   "metadata": {}
  },
  {
   "cell_type": "code",
   "execution_count": 7,
   "source": [
    "x_prev = np.ones(A.shape[0])\n",
    "y_prev = np.ones(A.shape[0])\n",
    "x_curr = x_prev.copy()\n",
    "y_curr = y_prev.copy()\n",
    "prev_eigval = 0\n",
    "\n",
    "k = 1\n",
    "m = 15\n",
    "while True:\n",
    "    x_prev_n = x_prev\n",
    "    if k % m == 0:\n",
    "        x_prev = x_prev / linalg.norm(x_prev)\n",
    "        y_prev = y_prev / linalg.norm(y_prev)\n",
    "\n",
    "    x_curr = A @ x_prev\n",
    "    y_curr = A.T @ y_prev\n",
    "\n",
    "    eigval = np.dot(A@x_prev_n, y_curr) / np.dot(x_prev_n, y_curr)\n",
    "    if abs(eigval - prev_eigval) < eps:\n",
    "    #if err(eigval, x_curr, x_prev) < eps:\n",
    "        prev_eigval = eigval\n",
    "        break\n",
    "\n",
    "    prev_eigval = eigval\n",
    "    x_prev = x_curr\n",
    "    y_prev = y_curr\n",
    "    k += 1\n",
    "\n",
    "print(\"Num iterations: \", k)\n",
    "print(\"Max eigenvalue:\", prev_eigval)\n",
    "print(\"Error: \", abs(linalg.eig(A)[0].max().real - prev_eigval) / linalg.eig(A)[0].max().real)\n",
    "print(\"Eigenvector: \", linalg.eig(A)[1][linalg.eig(A)[0].argmax()])"
   ],
   "outputs": [
    {
     "output_type": "stream",
     "name": "stdout",
     "text": [
      "Num iterations:  40\n",
      "Max eigenvalue: 14.906140138511075\n",
      "Error:  4.766778851919973e-16\n",
      "Eigenvector:  [-0.0414864  -0.00852776 -0.1562     -0.06728833 -0.90839909]\n"
     ]
    }
   ],
   "metadata": {}
  },
  {
   "cell_type": "code",
   "execution_count": null,
   "source": [],
   "outputs": [],
   "metadata": {}
  }
 ],
 "metadata": {
  "orig_nbformat": 4,
  "language_info": {
   "name": "python",
   "version": "3.9.7",
   "mimetype": "text/x-python",
   "codemirror_mode": {
    "name": "ipython",
    "version": 3
   },
   "pygments_lexer": "ipython3",
   "nbconvert_exporter": "python",
   "file_extension": ".py"
  },
  "kernelspec": {
   "name": "python3",
   "display_name": "Python 3.9.7 64-bit"
  },
  "interpreter": {
   "hash": "767d51c1340bd893661ea55ea3124f6de3c7a262a8b4abca0554b478b1e2ff90"
  }
 },
 "nbformat": 4,
 "nbformat_minor": 2
}