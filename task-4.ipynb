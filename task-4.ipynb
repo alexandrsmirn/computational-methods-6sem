{
 "cells": [
  {
   "cell_type": "code",
   "execution_count": 10,
   "source": [
    "import numpy as np\n",
    "import pandas as pd\n",
    "import scipy as sp\n",
    "from scipy import linalg\n",
    "import math"
   ],
   "outputs": [],
   "metadata": {}
  },
  {
   "cell_type": "code",
   "execution_count": 11,
   "source": [
    "def check_conv_crit(B):\n",
    "    return (B*B).sum() < 1"
   ],
   "outputs": [],
   "metadata": {}
  },
  {
   "cell_type": "code",
   "execution_count": 12,
   "source": [
    "def check_diag_dom(A):\n",
    "    D = np.diag(np.abs(A))\n",
    "    S = np.sum(np.abs(A), axis=1) - D\n",
    "    return np.all(D > S)\n",
    "\n",
    "def check_symm(A):\n",
    "    return (A==A.T).all()\n",
    "\n",
    "def cast_system(A, b):\n",
    "    n = A.shape[0]\n",
    "    E = np.eye(n)\n",
    "    D_inv = linalg.inv(E * A)\n",
    "\n",
    "    H = E - (D_inv @ A)\n",
    "    g = D_inv @ b\n",
    "    return H, g\n",
    "\n",
    "def cast_system_sym(A, b):\n",
    "    e = linalg.eigvalsh(A)\n",
    "    m = e.min()\n",
    "    M = e.max()\n",
    "    alpha = 2 / (m + M)\n",
    "\n",
    "    H = np.eye(A.shape[0]) - alpha*A\n",
    "    g = alpha*b\n",
    "    return H, g"
   ],
   "outputs": [],
   "metadata": {}
  },
  {
   "cell_type": "code",
   "execution_count": 19,
   "source": [
    "A_ = np.array([[0.4, -0.2, 0.1], [0.1, -0.4, 0.2], [-0.1, 0.2, 0.4]])\n",
    "A_ = np.array([[-402.5, 200.5],\\\n",
    "              [-603.0, 1203.0]])\n",
    "A_ = np.array([[12.951443, 1.554567, -3.998582],\n",
    "              [1.554567, 9.835076, 0.930339],\n",
    "              [-3.998582, 0.930339, 7.80380]])\n",
    "\n",
    "A_ = np.array([[8.29381, 0.995516, -0.560617],\n",
    "              [0.995516, 6.298198, 0.595772],\n",
    "              [-0.560617, 0.595772, 4.997407]])\n",
    "#A = np.eye(10)\n",
    "\n",
    "b = np.ones(A.shape[0])\n",
    "eps = 1e-15\n",
    "print(\"Cond A:\", np.linalg.cond(A))"
   ],
   "outputs": [
    {
     "output_type": "stream",
     "name": "stdout",
     "text": [
      "Cond A: 5.3540777070888135\n"
     ]
    }
   ],
   "metadata": {}
  },
  {
   "cell_type": "code",
   "execution_count": 20,
   "source": [
    "if (check_diag_dom(A)):\n",
    "    print(\"Diagonal dominance: True\")\n",
    "    H, g = cast_system(A, b)\n",
    "elif (check_symm(A)):\n",
    "    print(\"Symmetric: True\")\n",
    "    H, g = cast_system_sym(A, b)\n",
    "else:\n",
    "    raise Exception(\"Method will not work\")\n",
    "    \n",
    "print(\"Convergence criteria:\", check_conv_crit(H))\n",
    "H_norm = linalg.norm(H)\n",
    "c = H_norm / (1 - H_norm)\n",
    "\n",
    "x_prev = np.zeros(b.size)\n",
    "iter_count = 0\n",
    "while True:\n",
    "    x_curr = H @ x_prev + g\n",
    "    if linalg.norm(x_curr - x_prev)*c < eps:\n",
    "        break\n",
    "    x_prev = x_curr\n",
    "    iter_count += 1\n",
    "\n",
    "print(\"Num iterations:\", iter_count)\n",
    "print(\"Result:\", x_curr)"
   ],
   "outputs": [
    {
     "output_type": "stream",
     "name": "stdout",
     "text": [
      "Diagonal dominance: True\n",
      "Convergence criteria: True\n",
      "Num iterations: 43\n",
      "Result: [-0.00275938 -0.00055188]\n"
     ]
    }
   ],
   "metadata": {}
  },
  {
   "cell_type": "code",
   "execution_count": 21,
   "source": [
    "L = linalg.tril(A, -1)\n",
    "R = linalg.triu(A, 1)\n",
    "D = np.diagflat(np.diag(A))\n",
    "\n",
    "H = -linalg.inv(D+L)@R\n",
    "g = linalg.inv(D+L)@b\n",
    "print(\"Convergence criteria:\", check_conv_crit(H))\n",
    "\n",
    "H_norm = linalg.norm(H)\n",
    "c = H_norm / (1 - H_norm)\n",
    "\n",
    "x_prev = np.zeros(b.size)\n",
    "iter_count = 0\n",
    "while True:\n",
    "    x_curr = H @ x_prev + g\n",
    "    if linalg.norm(x_curr - x_prev)*c < eps:\n",
    "        break\n",
    "    x_prev = x_curr\n",
    "    iter_count += 1\n",
    "\n",
    "print(\"Num iterations:\", iter_count)\n",
    "print(\"Result:\", x_curr)\n"
   ],
   "outputs": [
    {
     "output_type": "stream",
     "name": "stdout",
     "text": [
      "Convergence criteria: True\n",
      "Num iterations: 21\n",
      "Result: [-0.00275938 -0.00055188]\n"
     ]
    }
   ],
   "metadata": {}
  }
 ],
 "metadata": {
  "orig_nbformat": 4,
  "language_info": {
   "name": "python",
   "version": "3.9.7",
   "mimetype": "text/x-python",
   "codemirror_mode": {
    "name": "ipython",
    "version": 3
   },
   "pygments_lexer": "ipython3",
   "nbconvert_exporter": "python",
   "file_extension": ".py"
  },
  "kernelspec": {
   "name": "python3",
   "display_name": "Python 3.9.7 64-bit"
  },
  "interpreter": {
   "hash": "767d51c1340bd893661ea55ea3124f6de3c7a262a8b4abca0554b478b1e2ff90"
  }
 },
 "nbformat": 4,
 "nbformat_minor": 2
}