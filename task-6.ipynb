{
 "cells": [
  {
   "cell_type": "code",
   "execution_count": 2,
   "source": [
    "import numpy as np\n",
    "import pandas as pd\n",
    "import scipy as sp\n",
    "from scipy import linalg\n",
    "import math"
   ],
   "outputs": [],
   "metadata": {}
  },
  {
   "cell_type": "code",
   "execution_count": 104,
   "source": [
    "def T(i: int, j: int, A: np.ndarray):\n",
    "    x = -2 * A[i,j]\n",
    "    y = A[i,i] - A[j,j]\n",
    "\n",
    "    if y == 0:\n",
    "        cos = 1 / np.sqrt(2)\n",
    "        sin = cos\n",
    "    else:\n",
    "        cos = np.sqrt(1/2*(1 + np.abs(y)/ np.sqrt(x**2 + y**2)))\n",
    "        sin = np.sign(x*y) * np.abs(x) / (2*cos*np.sqrt(x**2 + y**2))\n",
    "\n",
    "    res = np.eye(A.shape[0])\n",
    "    res[i, i] = cos\n",
    "    res[i, j] = -sin\n",
    "    res[j, i] = sin\n",
    "    res[j, j] = cos\n",
    "\n",
    "    return res"
   ],
   "outputs": [],
   "metadata": {}
  },
  {
   "cell_type": "code",
   "execution_count": 135,
   "source": [
    "def max_elem(A: np.ndarray):\n",
    "    B = np.abs(A)\n",
    "    np.fill_diagonal(B, -1)\n",
    "    return np.unravel_index(np.argmax(B), B.shape)\n",
    "\n",
    "def cycle_choise(A: np.ndarray, k: int):\n",
    "    i, j = np.tril_indices_from(A, k = -1)\n",
    "    idx = (k-1) % len(i)\n",
    "    return (i[idx], j[idx])\n",
    "\n",
    "def err(A: np.ndarray):\n",
    "    mask = np.invert(np.eye(A.shape[0], dtype=bool))\n",
    "    return np.sum(A*A, where=mask, dtype=np.float64)\n",
    "\n",
    "def R_i(i, A):\n",
    "    mask = np.ones(A.shape[0], dtype=bool)\n",
    "    mask[i] = False\n",
    "    return np.sum(np.abs(A[i, mask]), dtype=np.float64)\n",
    "\n",
    "def borders(A):\n",
    "    min_ = 1000000000\n",
    "    max_ = -1000000000\n",
    "    for i in range(A.shape[0]):\n",
    "        min_ = min(min_, A[i, i] - R_i(i, A))\n",
    "        max_ = max(max_, A[i, i] + R_i(i, A))\n",
    "    return min_, max_\n",
    "\n",
    "def create_b(A):\n",
    "    mask = np.eye(A.shape[0], dtype=bool)\n",
    "    B = A.copy()\n",
    "    B[mask] = 0\n",
    "    b = np.sum(B*B, axis=1)\n",
    "    return b\n",
    "\n",
    "def update_b(i, j, b, A):\n",
    "    mask = np.ones(A.shape[0], dtype=bool)\n",
    "    mask[i] = False\n",
    "    b[i] = np.sum((A*A)[i,mask], dtype=np.float64)\n",
    "    mask[i] = True\n",
    "    mask[j] = False\n",
    "    b[j] = np.sum((A*A)[j,mask], dtype=np.float64)\n",
    "    return b\n",
    "\n",
    "def opt_choise(A, b):\n",
    "    i = np.argmax(np.abs(b))\n",
    "    q = np.abs(A[i], dtype=np.float64)\n",
    "    q[i] = -1\n",
    "    j = np.argmax(q)\n",
    "    return i, j"
   ],
   "outputs": [],
   "metadata": {}
  },
  {
   "cell_type": "code",
   "execution_count": 149,
   "source": [
    "#A = linalg.pascal(5)\n",
    "A = linalg.hilbert(5)\n",
    "#A = np.array([[1, -2, 2],[-2, -2, 4],[2,4,-2]])\n",
    "eps = 1e-15\n",
    "\n",
    "A_prev = A.copy()\n",
    "A_new = A_prev.copy()\n",
    "#b_ = create_b(A)\n",
    "\n",
    "k = 1\n",
    "while True:\n",
    "    #i, j = cycle_choise(A_prev, k)\n",
    "    i, j = max_elem(A_prev)\n",
    "    #i, j = opt_choise(A_prev, b_)\n",
    "    #b_ = update_b(i, j, b_, A)\n",
    "    T_curr = T(i, j, A_prev)\n",
    "    A_new = T_curr @ A_prev @ T_curr.T\n",
    "\n",
    "    if (err(A_new) < eps):\n",
    "        break\n",
    "    \n",
    "    A_prev = A_new\n",
    "    k += 1\n",
    "\n",
    "print(\"Number of iterations: \", k)\n",
    "eigs = np.sort(np.diag(A_new))\n",
    "orig_eigs = np.sort(linalg.eigh(A)[0])\n",
    "\n",
    "print(\"Eigenvalues: \", list(eigs))\n",
    "print(\"Relative error: \", linalg.norm(orig_eigs-eigs) / linalg.norm(orig_eigs))\n",
    "print(\"Lower and upper limit for eigvals: \", borders(A))\n",
    "\n"
   ],
   "outputs": [
    {
     "output_type": "stream",
     "name": "stdout",
     "text": [
      "Number of iterations:  29\n",
      "Eigenvalues:  [3.287928772179718e-06, 0.00030589804015119886, 0.01140749162341981, 0.20853421861101326, 1.5670506910982307]\n",
      "Relative error:  1.132837091885977e-15\n",
      "Lower and upper limit for eigvals:  (-0.7833333333333334, 2.283333333333333)\n"
     ]
    }
   ],
   "metadata": {}
  }
 ],
 "metadata": {
  "orig_nbformat": 4,
  "language_info": {
   "name": "python",
   "version": "3.9.7",
   "mimetype": "text/x-python",
   "codemirror_mode": {
    "name": "ipython",
    "version": 3
   },
   "pygments_lexer": "ipython3",
   "nbconvert_exporter": "python",
   "file_extension": ".py"
  },
  "kernelspec": {
   "name": "python3",
   "display_name": "Python 3.9.7 64-bit"
  },
  "interpreter": {
   "hash": "767d51c1340bd893661ea55ea3124f6de3c7a262a8b4abca0554b478b1e2ff90"
  }
 },
 "nbformat": 4,
 "nbformat_minor": 2
}